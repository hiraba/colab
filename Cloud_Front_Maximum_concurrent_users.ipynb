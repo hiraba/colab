{
  "nbformat": 4,
  "nbformat_minor": 0,
  "metadata": {
    "colab": {
      "name": "Cloud Front Maximum concurrent users.ipynb",
      "provenance": [],
      "collapsed_sections": [],
      "authorship_tag": "ABX9TyOBBoFEDdaduozIhe/0JiVg",
      "include_colab_link": true
    },
    "kernelspec": {
      "name": "python3",
      "display_name": "Python 3"
    },
    "language_info": {
      "name": "python"
    }
  },
  "cells": [
    {
      "cell_type": "markdown",
      "metadata": {
        "id": "view-in-github",
        "colab_type": "text"
      },
      "source": [
        "<a href=\"https://colab.research.google.com/github/hiraba/colab/blob/main/Cloud_Front_Maximum_concurrent_users.ipynb\" target=\"_parent\"><img src=\"https://colab.research.google.com/assets/colab-badge.svg\" alt=\"Open In Colab\"/></a>"
      ]
    },
    {
      "cell_type": "markdown",
      "metadata": {
        "id": "jmiejCiabMtP"
      },
      "source": [
        "3Mbpsの動画配信だとすると150,000 Mbps ÷ 3 Mbps = 50,000となり、50,000人の同時視聴が可能です。\n",
        "音声ガイドにおいて１ユーザーがどのくらい帯域を使うかは実証していないのでわからないですが\n",
        "150,000 Mbps ÷ N Mbps\n",
        "の計算式で最大同時接続数が算出できます。\n",
        "https://dev.classmethod.jp/articles/cloudfront-limit-update-202005/"
      ]
    },
    {
      "cell_type": "code",
      "metadata": {
        "colab": {
          "base_uri": "https://localhost:8080/"
        },
        "id": "mfzZRCwQYukC",
        "outputId": "b72ac52b-ee91-400f-c593-c2f49c89ee77"
      },
      "source": [
        "n = 3\n",
        "print (150000 / n)"
      ],
      "execution_count": null,
      "outputs": [
        {
          "output_type": "stream",
          "name": "stdout",
          "text": [
            "50000.0\n"
          ]
        }
      ]
    }
  ]
}